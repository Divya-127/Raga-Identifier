{
  "nbformat": 4,
  "nbformat_minor": 0,
  "metadata": {
    "accelerator": "GPU",
    "colab": {
      "name": "RagaClassification.ipynb",
      "provenance": [],
      "collapsed_sections": []
    },
    "kernelspec": {
      "display_name": "Python 3",
      "name": "python3"
    },
    "language_info": {
      "name": "python"
    }
  },
  "cells": [
    {
      "cell_type": "code",
      "metadata": {
        "id": "ip10W9xq9V_o"
      },
      "source": [
        "import json\n",
        "import numpy as np\n",
        "from sklearn.model_selection import train_test_split\n",
        "import tensorflow.keras as keras"
      ],
      "execution_count": null,
      "outputs": []
    },
    {
      "cell_type": "code",
      "metadata": {
        "id": "v41644ono9jc"
      },
      "source": [
        "DATA_PATH = \"/content/drive/MyDrive/MiniProject/data.json\"\n",
        "\n",
        "def load_data(data_path):\n",
        "    with open(data_path, \"r\") as fp:\n",
        "        data = json.load(fp)\n",
        "\n",
        "    X = np.array(data[\"mfcc\"])\n",
        "    y = np.array(data[\"labels\"])\n",
        "    return X, y"
      ],
      "execution_count": null,
      "outputs": []
    },
    {
      "cell_type": "code",
      "metadata": {
        "id": "eeOFOsippYCT"
      },
      "source": [
        "def prepare_datasets(test_size, validation_size):\n",
        "    X, y = load_data(DATA_PATH)\n",
        "\n",
        "    X_train, X_test, y_train, y_test = train_test_split(X, y, test_size=test_size)\n",
        "    X_train, X_validation, y_train, y_validation = train_test_split(X_train, y_train, test_size=validation_size)\n",
        "\n",
        "    return X_train, X_validation, X_test, y_train, y_validation, y_test\n"
      ],
      "execution_count": null,
      "outputs": []
    },
    {
      "cell_type": "code",
      "metadata": {
        "id": "6XcK9wFlpgS2"
      },
      "source": [
        "def predict(model, X, y):\n",
        "    X = X[np.newaxis, ...] \n",
        "\n",
        "    prediction = model.predict(X)\n",
        "    print(prediction)\n",
        "    predicted_index = np.argmax(prediction, axis=1)\n",
        "    print(\"Target: {}, Predicted label: {}\".format(y, predicted_index))\n"
      ],
      "execution_count": null,
      "outputs": []
    },
    {
      "cell_type": "code",
      "metadata": {
        "id": "IVDbz6U5pkXe"
      },
      "source": [
        "def build_model(input_shape):\n",
        "    model = keras.Sequential()\n",
        "    #model.add(keras.layers.Bidirectional(keras.layers.LSTM(1000,return_sequences=True, dropout=0.25,recurrent_dropout=0.1),input_shape=input_shape))\n",
        "    # 2 LSTM layers\n",
        "    model.add(keras.layers.LSTM(1000, input_shape=input_shape, return_sequences=True))\n",
        "    model.add(keras.layers.LSTM(64))\n",
        "    # dense layer\n",
        "    model.add(keras.layers.Dense(64, activation='relu'))\n",
        "    model.add(keras.layers.Dropout(0.3))\n",
        "    #dense layer    \n",
        "    model.add(keras.layers.Dense(128, activation='relu'))\n",
        "    model.add(keras.layers.Dropout(0.3))\n",
        "    #dense layer    \n",
        "    model.add(keras.layers.Dense(256, activation='relu'))\n",
        "    model.add(keras.layers.Dropout(0.3))\n",
        "    #dense layer    \n",
        "    model.add(keras.layers.Dense(512, activation='relu'))\n",
        "    model.add(keras.layers.Dropout(0.3))\n",
        "    #dense layer    \n",
        "    model.add(keras.layers.Dense(1024, activation='relu'))\n",
        "    model.add(keras.layers.Dropout(0.3))\n",
        "    # output layer\n",
        "    model.add(keras.layers.Dense(7, activation='softmax'))\n",
        "    return model"
      ],
      "execution_count": null,
      "outputs": []
    },
    {
      "cell_type": "code",
      "metadata": {
        "colab": {
          "base_uri": "https://localhost:8080/"
        },
        "id": "ZYPiQdEPpqQP",
        "outputId": "6ff1c932-d519-4068-d106-edae0557d205"
      },
      "source": [
        "if __name__ == \"__main__\":\n",
        "\n",
        "    X_train, X_validation, X_test, y_train, y_validation, y_test = prepare_datasets(0.25, 0.2)\n",
        "    input_shape = (X_train.shape[1], X_train.shape[2]) # 185, 13\n",
        "    model = build_model(input_shape)\n",
        "\n",
        "    optimiser = keras.optimizers.Adam(learning_rate=0.0001)\n",
        "    model.compile(optimizer=optimiser,\n",
        "                  loss='sparse_categorical_crossentropy',\n",
        "                  metrics=['accuracy'])\n",
        "    model_checkpoint_callback = keras.callbacks.ModelCheckpoint(\"model_lstm.h5\",save_best_only=True)\n",
        "    model.summary()\n",
        "    history = model.fit(X_train, y_train, validation_data=(X_validation, y_validation), batch_size=32, epochs=75)\n",
        "    test_loss, test_acc = model.evaluate(X_test, y_test, verbose=2)\n",
        "    val_loss,val_acc = model.evaluate(X_validation,y_validation,verbose=2)\n",
        "    print('\\nTest accuracy:', test_acc)"
      ],
      "execution_count": null,
      "outputs": [
        {
          "output_type": "stream",
          "text": [
            "Model: \"sequential_1\"\n",
            "_________________________________________________________________\n",
            "Layer (type)                 Output Shape              Param #   \n",
            "=================================================================\n",
            "lstm_2 (LSTM)                (None, 185, 1000)         4056000   \n",
            "_________________________________________________________________\n",
            "lstm_3 (LSTM)                (None, 64)                272640    \n",
            "_________________________________________________________________\n",
            "dense_6 (Dense)              (None, 64)                4160      \n",
            "_________________________________________________________________\n",
            "dropout_5 (Dropout)          (None, 64)                0         \n",
            "_________________________________________________________________\n",
            "dense_7 (Dense)              (None, 128)               8320      \n",
            "_________________________________________________________________\n",
            "dropout_6 (Dropout)          (None, 128)               0         \n",
            "_________________________________________________________________\n",
            "dense_8 (Dense)              (None, 256)               33024     \n",
            "_________________________________________________________________\n",
            "dropout_7 (Dropout)          (None, 256)               0         \n",
            "_________________________________________________________________\n",
            "dense_9 (Dense)              (None, 512)               131584    \n",
            "_________________________________________________________________\n",
            "dropout_8 (Dropout)          (None, 512)               0         \n",
            "_________________________________________________________________\n",
            "dense_10 (Dense)             (None, 1024)              525312    \n",
            "_________________________________________________________________\n",
            "dropout_9 (Dropout)          (None, 1024)              0         \n",
            "_________________________________________________________________\n",
            "dense_11 (Dense)             (None, 7)                 7175      \n",
            "=================================================================\n",
            "Total params: 5,038,215\n",
            "Trainable params: 5,038,215\n",
            "Non-trainable params: 0\n",
            "_________________________________________________________________\n",
            "Epoch 1/75\n",
            "177/177 [==============================] - 45s 239ms/step - loss: 1.9162 - accuracy: 0.1777 - val_loss: 1.6015 - val_accuracy: 0.2867\n",
            "Epoch 2/75\n",
            "177/177 [==============================] - 44s 250ms/step - loss: 1.5703 - accuracy: 0.3563 - val_loss: 1.1804 - val_accuracy: 0.5465\n",
            "Epoch 3/75\n",
            "177/177 [==============================] - 44s 247ms/step - loss: 1.2474 - accuracy: 0.5039 - val_loss: 0.9791 - val_accuracy: 0.6203\n",
            "Epoch 4/75\n",
            "177/177 [==============================] - 44s 248ms/step - loss: 1.0327 - accuracy: 0.5946 - val_loss: 0.8378 - val_accuracy: 0.6650\n",
            "Epoch 5/75\n",
            "177/177 [==============================] - 44s 246ms/step - loss: 0.8986 - accuracy: 0.6565 - val_loss: 0.7037 - val_accuracy: 0.7211\n",
            "Epoch 6/75\n",
            "177/177 [==============================] - 43s 244ms/step - loss: 0.7716 - accuracy: 0.7056 - val_loss: 0.6244 - val_accuracy: 0.7637\n",
            "Epoch 7/75\n",
            "177/177 [==============================] - 44s 249ms/step - loss: 0.6947 - accuracy: 0.7473 - val_loss: 0.5514 - val_accuracy: 0.7842\n",
            "Epoch 8/75\n",
            "177/177 [==============================] - 43s 241ms/step - loss: 0.6242 - accuracy: 0.7797 - val_loss: 0.6294 - val_accuracy: 0.7630\n",
            "Epoch 9/75\n",
            "177/177 [==============================] - 44s 247ms/step - loss: 0.5657 - accuracy: 0.7926 - val_loss: 0.4549 - val_accuracy: 0.8396\n",
            "Epoch 10/75\n",
            "177/177 [==============================] - 43s 246ms/step - loss: 0.4828 - accuracy: 0.8261 - val_loss: 0.3951 - val_accuracy: 0.8581\n",
            "Epoch 11/75\n",
            "177/177 [==============================] - 44s 247ms/step - loss: 0.4751 - accuracy: 0.8336 - val_loss: 0.3765 - val_accuracy: 0.8630\n",
            "Epoch 12/75\n",
            "177/177 [==============================] - 43s 244ms/step - loss: 0.4002 - accuracy: 0.8588 - val_loss: 0.3812 - val_accuracy: 0.8602\n",
            "Epoch 13/75\n",
            "177/177 [==============================] - 43s 243ms/step - loss: 0.3643 - accuracy: 0.8713 - val_loss: 0.3504 - val_accuracy: 0.8765\n",
            "Epoch 14/75\n",
            "177/177 [==============================] - 43s 244ms/step - loss: 0.3302 - accuracy: 0.8912 - val_loss: 0.3108 - val_accuracy: 0.8935\n",
            "Epoch 15/75\n",
            "177/177 [==============================] - 44s 248ms/step - loss: 0.2810 - accuracy: 0.8986 - val_loss: 0.3281 - val_accuracy: 0.8836\n",
            "Epoch 16/75\n",
            "177/177 [==============================] - 44s 247ms/step - loss: 0.2815 - accuracy: 0.9034 - val_loss: 0.3067 - val_accuracy: 0.8992\n",
            "Epoch 17/75\n",
            "177/177 [==============================] - 43s 246ms/step - loss: 0.2207 - accuracy: 0.9238 - val_loss: 0.2909 - val_accuracy: 0.9056\n",
            "Epoch 18/75\n",
            "177/177 [==============================] - 44s 247ms/step - loss: 0.2302 - accuracy: 0.9230 - val_loss: 0.2836 - val_accuracy: 0.8978\n",
            "Epoch 19/75\n",
            "177/177 [==============================] - 43s 241ms/step - loss: 0.1936 - accuracy: 0.9318 - val_loss: 0.2907 - val_accuracy: 0.9063\n",
            "Epoch 20/75\n",
            "177/177 [==============================] - 43s 244ms/step - loss: 0.1755 - accuracy: 0.9412 - val_loss: 0.2548 - val_accuracy: 0.9184\n",
            "Epoch 21/75\n",
            "177/177 [==============================] - 43s 246ms/step - loss: 0.2200 - accuracy: 0.9314 - val_loss: 0.2311 - val_accuracy: 0.9276\n",
            "Epoch 22/75\n",
            "177/177 [==============================] - 43s 246ms/step - loss: 0.2120 - accuracy: 0.9267 - val_loss: 0.2590 - val_accuracy: 0.9084\n",
            "Epoch 23/75\n",
            "177/177 [==============================] - 43s 243ms/step - loss: 0.1748 - accuracy: 0.9355 - val_loss: 0.3073 - val_accuracy: 0.8950\n",
            "Epoch 24/75\n",
            "177/177 [==============================] - 43s 242ms/step - loss: 0.2474 - accuracy: 0.9213 - val_loss: 0.2768 - val_accuracy: 0.9092\n",
            "Epoch 25/75\n",
            "177/177 [==============================] - 43s 243ms/step - loss: 0.1655 - accuracy: 0.9435 - val_loss: 0.2390 - val_accuracy: 0.9198\n",
            "Epoch 26/75\n",
            "177/177 [==============================] - 44s 248ms/step - loss: 0.1636 - accuracy: 0.9477 - val_loss: 0.2192 - val_accuracy: 0.9262\n",
            "Epoch 27/75\n",
            "177/177 [==============================] - 43s 244ms/step - loss: 0.1258 - accuracy: 0.9557 - val_loss: 0.2287 - val_accuracy: 0.9347\n",
            "Epoch 28/75\n",
            "177/177 [==============================] - 43s 245ms/step - loss: 0.1263 - accuracy: 0.9570 - val_loss: 0.2729 - val_accuracy: 0.9205\n",
            "Epoch 29/75\n",
            "177/177 [==============================] - 43s 244ms/step - loss: 0.1278 - accuracy: 0.9535 - val_loss: 0.2508 - val_accuracy: 0.9283\n",
            "Epoch 30/75\n",
            "177/177 [==============================] - 43s 242ms/step - loss: 0.1252 - accuracy: 0.9630 - val_loss: 0.2606 - val_accuracy: 0.9170\n",
            "Epoch 31/75\n",
            "177/177 [==============================] - 45s 252ms/step - loss: 0.0988 - accuracy: 0.9673 - val_loss: 0.3122 - val_accuracy: 0.9127\n",
            "Epoch 32/75\n",
            "177/177 [==============================] - 44s 247ms/step - loss: 0.1167 - accuracy: 0.9645 - val_loss: 0.3169 - val_accuracy: 0.9084\n",
            "Epoch 33/75\n",
            "177/177 [==============================] - 43s 242ms/step - loss: 0.1027 - accuracy: 0.9698 - val_loss: 0.2510 - val_accuracy: 0.9262\n",
            "Epoch 34/75\n",
            "177/177 [==============================] - 43s 245ms/step - loss: 0.0862 - accuracy: 0.9710 - val_loss: 0.2629 - val_accuracy: 0.9297\n",
            "Epoch 35/75\n",
            "177/177 [==============================] - 43s 242ms/step - loss: 0.1041 - accuracy: 0.9663 - val_loss: 0.2794 - val_accuracy: 0.9269\n",
            "Epoch 36/75\n",
            "177/177 [==============================] - 44s 246ms/step - loss: 0.0972 - accuracy: 0.9660 - val_loss: 0.3735 - val_accuracy: 0.9056\n",
            "Epoch 37/75\n",
            "177/177 [==============================] - 43s 244ms/step - loss: 0.1002 - accuracy: 0.9663 - val_loss: 0.2237 - val_accuracy: 0.9439\n",
            "Epoch 38/75\n",
            "177/177 [==============================] - 43s 244ms/step - loss: 0.0628 - accuracy: 0.9828 - val_loss: 0.3144 - val_accuracy: 0.9233\n",
            "Epoch 39/75\n",
            "177/177 [==============================] - 43s 246ms/step - loss: 0.0969 - accuracy: 0.9679 - val_loss: 0.2727 - val_accuracy: 0.9340\n",
            "Epoch 40/75\n",
            "177/177 [==============================] - 43s 244ms/step - loss: 0.0982 - accuracy: 0.9710 - val_loss: 0.3027 - val_accuracy: 0.9163\n",
            "Epoch 41/75\n",
            "177/177 [==============================] - 43s 244ms/step - loss: 0.0778 - accuracy: 0.9767 - val_loss: 0.7072 - val_accuracy: 0.8722\n",
            "Epoch 42/75\n",
            "177/177 [==============================] - 44s 248ms/step - loss: 0.1207 - accuracy: 0.9676 - val_loss: 0.2732 - val_accuracy: 0.9397\n",
            "Epoch 43/75\n",
            "177/177 [==============================] - 43s 246ms/step - loss: 0.0692 - accuracy: 0.9767 - val_loss: 0.2863 - val_accuracy: 0.9326\n",
            "Epoch 44/75\n",
            "177/177 [==============================] - 43s 245ms/step - loss: 0.0657 - accuracy: 0.9788 - val_loss: 0.3034 - val_accuracy: 0.9312\n",
            "Epoch 45/75\n",
            "177/177 [==============================] - 43s 242ms/step - loss: 0.0642 - accuracy: 0.9843 - val_loss: 0.3089 - val_accuracy: 0.9255\n",
            "Epoch 46/75\n",
            "177/177 [==============================] - 44s 247ms/step - loss: 0.0733 - accuracy: 0.9760 - val_loss: 0.2551 - val_accuracy: 0.9340\n",
            "Epoch 47/75\n",
            "177/177 [==============================] - 43s 245ms/step - loss: 0.1387 - accuracy: 0.9568 - val_loss: 0.2851 - val_accuracy: 0.9276\n",
            "Epoch 48/75\n",
            "177/177 [==============================] - 43s 245ms/step - loss: 0.0592 - accuracy: 0.9812 - val_loss: 0.2698 - val_accuracy: 0.9397\n",
            "Epoch 49/75\n",
            "177/177 [==============================] - 43s 245ms/step - loss: 0.0510 - accuracy: 0.9842 - val_loss: 0.2654 - val_accuracy: 0.9326\n",
            "Epoch 50/75\n",
            "177/177 [==============================] - 43s 245ms/step - loss: 0.0374 - accuracy: 0.9881 - val_loss: 0.2641 - val_accuracy: 0.9439\n",
            "Epoch 51/75\n",
            "177/177 [==============================] - 43s 246ms/step - loss: 0.0472 - accuracy: 0.9876 - val_loss: 0.3033 - val_accuracy: 0.9340\n",
            "Epoch 52/75\n",
            "177/177 [==============================] - 44s 248ms/step - loss: 0.0587 - accuracy: 0.9828 - val_loss: 0.2582 - val_accuracy: 0.9425\n",
            "Epoch 53/75\n",
            "177/177 [==============================] - 43s 244ms/step - loss: 0.0253 - accuracy: 0.9919 - val_loss: 0.2502 - val_accuracy: 0.9432\n",
            "Epoch 54/75\n",
            "177/177 [==============================] - 43s 244ms/step - loss: 0.0268 - accuracy: 0.9928 - val_loss: 0.2927 - val_accuracy: 0.9404\n",
            "Epoch 55/75\n",
            "177/177 [==============================] - 43s 243ms/step - loss: 0.0482 - accuracy: 0.9847 - val_loss: 0.2583 - val_accuracy: 0.9312\n",
            "Epoch 56/75\n",
            "177/177 [==============================] - 43s 245ms/step - loss: 0.0887 - accuracy: 0.9753 - val_loss: 0.3152 - val_accuracy: 0.9233\n",
            "Epoch 57/75\n",
            "177/177 [==============================] - 44s 249ms/step - loss: 0.0680 - accuracy: 0.9797 - val_loss: 0.2915 - val_accuracy: 0.9383\n",
            "Epoch 58/75\n",
            "177/177 [==============================] - 43s 245ms/step - loss: 0.0449 - accuracy: 0.9858 - val_loss: 0.2891 - val_accuracy: 0.9368\n",
            "Epoch 59/75\n",
            "177/177 [==============================] - 43s 243ms/step - loss: 0.0574 - accuracy: 0.9830 - val_loss: 0.2797 - val_accuracy: 0.9418\n",
            "Epoch 60/75\n",
            "177/177 [==============================] - 43s 246ms/step - loss: 0.0379 - accuracy: 0.9874 - val_loss: 0.3050 - val_accuracy: 0.9368\n",
            "Epoch 61/75\n",
            "177/177 [==============================] - 43s 243ms/step - loss: 0.0375 - accuracy: 0.9887 - val_loss: 0.3033 - val_accuracy: 0.9347\n",
            "Epoch 62/75\n",
            "177/177 [==============================] - 44s 246ms/step - loss: 0.0431 - accuracy: 0.9884 - val_loss: 0.2967 - val_accuracy: 0.9319\n",
            "Epoch 63/75\n",
            "177/177 [==============================] - 43s 243ms/step - loss: 0.0439 - accuracy: 0.9876 - val_loss: 0.3335 - val_accuracy: 0.9248\n",
            "Epoch 64/75\n",
            "177/177 [==============================] - 43s 244ms/step - loss: 0.0549 - accuracy: 0.9853 - val_loss: 0.3288 - val_accuracy: 0.9241\n",
            "Epoch 65/75\n",
            "177/177 [==============================] - 43s 243ms/step - loss: 0.0511 - accuracy: 0.9836 - val_loss: 0.2657 - val_accuracy: 0.9347\n",
            "Epoch 66/75\n",
            "177/177 [==============================] - 43s 246ms/step - loss: 0.0432 - accuracy: 0.9877 - val_loss: 0.3257 - val_accuracy: 0.9297\n",
            "Epoch 67/75\n",
            "177/177 [==============================] - 44s 248ms/step - loss: 0.0382 - accuracy: 0.9856 - val_loss: 0.3173 - val_accuracy: 0.9326\n",
            "Epoch 68/75\n",
            "177/177 [==============================] - 43s 244ms/step - loss: 0.0367 - accuracy: 0.9896 - val_loss: 0.4667 - val_accuracy: 0.9028\n",
            "Epoch 69/75\n",
            "177/177 [==============================] - 43s 243ms/step - loss: 0.0630 - accuracy: 0.9820 - val_loss: 0.3245 - val_accuracy: 0.9340\n",
            "Epoch 70/75\n",
            "177/177 [==============================] - 43s 244ms/step - loss: 0.0300 - accuracy: 0.9911 - val_loss: 0.3529 - val_accuracy: 0.9297\n",
            "Epoch 71/75\n",
            "177/177 [==============================] - 43s 244ms/step - loss: 0.0337 - accuracy: 0.9904 - val_loss: 0.3936 - val_accuracy: 0.9276\n",
            "Epoch 72/75\n",
            "177/177 [==============================] - 44s 247ms/step - loss: 0.0431 - accuracy: 0.9870 - val_loss: 0.3118 - val_accuracy: 0.9390\n",
            "Epoch 73/75\n",
            "177/177 [==============================] - 43s 243ms/step - loss: 0.0149 - accuracy: 0.9949 - val_loss: 0.3628 - val_accuracy: 0.9390\n",
            "Epoch 74/75\n",
            "177/177 [==============================] - 43s 244ms/step - loss: 0.0684 - accuracy: 0.9796 - val_loss: 0.4392 - val_accuracy: 0.9092\n",
            "Epoch 75/75\n",
            "177/177 [==============================] - 43s 243ms/step - loss: 0.0744 - accuracy: 0.9786 - val_loss: 0.2800 - val_accuracy: 0.9354\n",
            "74/74 - 6s - loss: 0.2525 - accuracy: 0.9361\n",
            "\n",
            "Test accuracy: 0.9361430406570435\n"
          ],
          "name": "stdout"
        }
      ]
    },
    {
      "cell_type": "code",
      "metadata": {
        "id": "LyyTYl4E9H3s"
      },
      "source": [
        ""
      ],
      "execution_count": null,
      "outputs": []
    },
    {
      "cell_type": "code",
      "metadata": {
        "id": "MW5xZqYN6OaB"
      },
      "source": [
        "json_file = open('model_num.json', 'r')\n",
        "loaded_model_json = json_file.read()\n",
        "json_file.close()\n",
        "loaded_model = model_from_json(loaded_model_json)\n",
        "loaded_model.load_weights(\"model_num.h5\")\n",
        "print(\"Loaded model from disk\")\n",
        "optimiser = keras.optimizers.Adam(learning_rate=0.0001)\n",
        "loaded_model.compile(optimizer=optimiser,loss='sparse_categorical_crossentropy',metrics=['accuracy'])"
      ],
      "execution_count": null,
      "outputs": []
    },
    {
      "cell_type": "code",
      "metadata": {
        "id": "N2fbpKFOzZVm"
      },
      "source": [
        "from keras.models import model_from_json\n",
        "from keras.models import load_model\n",
        "\n",
        "model_json = model.to_json()\n",
        "\n",
        "\n",
        "with open(\"model_num.json\", \"w\") as json_file:\n",
        "    json_file.write(model_json)\n"
      ],
      "execution_count": null,
      "outputs": []
    },
    {
      "cell_type": "code",
      "metadata": {
        "colab": {
          "base_uri": "https://localhost:8080/"
        },
        "id": "MmUk31iN2237",
        "outputId": "931273b4-f232-4890-d851-963f719a112d"
      },
      "source": [
        "model_filename = \"lstm_raga_classifier.h5\"\n",
        "print(\"\\nSaving model: \" + model_filename)\n",
        "model.save(model_filename)"
      ],
      "execution_count": null,
      "outputs": [
        {
          "output_type": "stream",
          "text": [
            "\n",
            "Saving model: lstm_raga_classifier.h5\n"
          ],
          "name": "stdout"
        }
      ]
    },
    {
      "cell_type": "code",
      "metadata": {
        "colab": {
          "base_uri": "https://localhost:8080/"
        },
        "id": "nCCMx5UThKlB",
        "outputId": "ce246429-0e70-4f7c-afff-c14a4e911b01"
      },
      "source": [
        "from google.colab import drive\n",
        "drive.mount('/content/drive')"
      ],
      "execution_count": null,
      "outputs": [
        {
          "output_type": "stream",
          "text": [
            "Mounted at /content/drive\n"
          ],
          "name": "stdout"
        }
      ]
    },
    {
      "cell_type": "code",
      "metadata": {
        "colab": {
          "base_uri": "https://localhost:8080/"
        },
        "id": "vRwgB55x24qI",
        "outputId": "4409a15f-a3bb-4251-c10a-8f26a9286310"
      },
      "source": [
        "    X_to_predict = X_test[99]\n",
        "    y_to_predict = y_test[99]\n",
        "    print(X_to_predict)\n",
        "    print(len(X_to_predict))\n",
        "    # predict sample\n",
        "    predict(model, X_to_predict, y_to_predict)"
      ],
      "execution_count": null,
      "outputs": [
        {
          "output_type": "stream",
          "text": [
            "[[-2.53606003e+02  6.58374786e+01  2.87235603e+01 ... -9.43208504e+00\n",
            "  -1.39437447e+01 -1.01516790e+01]\n",
            " [-2.10408936e+02  8.54122772e+01  8.69899940e+00 ... -5.79949045e+00\n",
            "  -6.18959236e+00 -1.30504789e+01]\n",
            " [-1.83913269e+02  1.01584900e+02 -2.31153889e+01 ...  3.94765735e-02\n",
            "  -3.05618584e-01 -1.58605518e+01]\n",
            " ...\n",
            " [-3.24085938e+02  1.24378281e+02  1.33855457e+01 ... -1.91381035e+01\n",
            "  -1.65821381e+01 -1.26598272e+01]\n",
            " [-3.23613708e+02  1.32637146e+02  1.63405800e+01 ... -1.85993614e+01\n",
            "  -1.36715775e+01 -3.61418533e+00]\n",
            " [-2.83764709e+02  1.64807846e+02  3.68926392e+01 ... -2.33828306e+00\n",
            "  -6.59531498e+00  4.84206057e+00]]\n",
            "185\n",
            "Target: 6, Predicted label: [6]\n"
          ],
          "name": "stdout"
        }
      ]
    },
    {
      "cell_type": "code",
      "metadata": {
        "id": "tnb96zMTc1oI"
      },
      "source": [
        "with open('./model_num.json', 'r') as f:\n",
        "  model = model_from_json(f.read())\n",
        "model.load_weights('./model_num.h5')"
      ],
      "execution_count": null,
      "outputs": []
    },
    {
      "cell_type": "code",
      "metadata": {
        "colab": {
          "base_uri": "https://localhost:8080/"
        },
        "id": "PNCnvv2ysPyI",
        "outputId": "2a1cfda8-b254-423f-f405-770071a8d348"
      },
      "source": [
        "import math\n",
        "import librosa\n",
        "\n",
        "SAMPLE_RATE = 22050\n",
        "DURATION = 30\n",
        "SAMPLES_PER_TRACK = SAMPLE_RATE * DURATION\n",
        "\n",
        "def save_mfcc(n_mfccs=13,n_fft=2048,hop_length=512,num_segments=5):\n",
        "    data = {\n",
        "        \"mfcc\":[]\n",
        "    }\n",
        "    num_samples_per_segment = int(SAMPLES_PER_TRACK / num_segments)\n",
        "    expected_num_mfcc_vectors_per_segment = math.ceil(num_samples_per_segment/hop_length)\n",
        "\n",
        "    file = \"/content/drive/MyDrive/JA RE BADRA BAIRII JA RE JA RE -LATA-RAJINDER KRISHAN - MADAN MOHAN (BAHAANA 1960).wav\"\n",
        "    signal, sr = librosa.load(file,sr=SAMPLE_RATE)\n",
        "    for s in range(num_segments):\n",
        "        start_sample = num_samples_per_segment * s #s=0 -> 0\n",
        "        finish_sample = start_sample + num_samples_per_segment\n",
        "\n",
        "        mfcc = librosa.feature.mfcc(signal[start_sample:finish_sample],\n",
        "                                    sr=sr,\n",
        "                                    n_mfcc=n_mfccs,\n",
        "                                    n_fft=n_fft,\n",
        "                                    hop_length=hop_length)\n",
        "\n",
        "        mfcc = mfcc.T\n",
        "        \n",
        "        if len(mfcc)==expected_num_mfcc_vectors_per_segment:\n",
        "            data[\"mfcc\"].append(mfcc)\n",
        "\n",
        "    return data[\"mfcc\"]\n",
        "\n",
        "x = save_mfcc(num_segments=1)\n",
        "for i in range(0,len(x)):\n",
        "  predict(model,x[i],6)\n"
      ],
      "execution_count": null,
      "outputs": [
        {
          "output_type": "stream",
          "text": [
            "Target: 6, Predicted label: [1]\n"
          ],
          "name": "stdout"
        }
      ]
    },
    {
      "cell_type": "code",
      "metadata": {
        "id": "p0YiXnE59uPy",
        "colab": {
          "base_uri": "https://localhost:8080/"
        },
        "outputId": "31ed1c57-b233-4cdb-9a64-4a6b4799e569"
      },
      "source": [
        " \n"
      ],
      "execution_count": null,
      "outputs": [
        {
          "output_type": "stream",
          "text": [
            "\n",
            "Saving model: lstm_raga_classifier_lstm.h5\n"
          ],
          "name": "stdout"
        }
      ]
    },
    {
      "cell_type": "code",
      "metadata": {
        "id": "exRxPhq1cvo3"
      },
      "source": [
        ""
      ],
      "execution_count": null,
      "outputs": []
    },
    {
      "cell_type": "code",
      "metadata": {
        "id": "WbLY9krXfvLP"
      },
      "source": [
        "!mkdir -p saved_model"
      ],
      "execution_count": null,
      "outputs": []
    },
    {
      "cell_type": "code",
      "metadata": {
        "colab": {
          "base_uri": "https://localhost:8080/"
        },
        "id": "gylOploArNvR",
        "outputId": "3440ce69-e66f-42fe-ea8b-cd1aeef67058"
      },
      "source": [
        "!nvidia-smi"
      ],
      "execution_count": null,
      "outputs": [
        {
          "output_type": "stream",
          "text": [
            "Thu Apr  8 17:14:58 2021       \n",
            "+-----------------------------------------------------------------------------+\n",
            "| NVIDIA-SMI 460.67       Driver Version: 460.32.03    CUDA Version: 11.2     |\n",
            "|-------------------------------+----------------------+----------------------+\n",
            "| GPU  Name        Persistence-M| Bus-Id        Disp.A | Volatile Uncorr. ECC |\n",
            "| Fan  Temp  Perf  Pwr:Usage/Cap|         Memory-Usage | GPU-Util  Compute M. |\n",
            "|                               |                      |               MIG M. |\n",
            "|===============================+======================+======================|\n",
            "|   0  Tesla T4            Off  | 00000000:00:04.0 Off |                    0 |\n",
            "| N/A   43C    P8    10W /  70W |      0MiB / 15109MiB |      0%      Default |\n",
            "|                               |                      |                  N/A |\n",
            "+-------------------------------+----------------------+----------------------+\n",
            "                                                                               \n",
            "+-----------------------------------------------------------------------------+\n",
            "| Processes:                                                                  |\n",
            "|  GPU   GI   CI        PID   Type   Process name                  GPU Memory |\n",
            "|        ID   ID                                                   Usage      |\n",
            "|=============================================================================|\n",
            "|  No running processes found                                                 |\n",
            "+-----------------------------------------------------------------------------+\n"
          ],
          "name": "stdout"
        }
      ]
    }
  ]
}